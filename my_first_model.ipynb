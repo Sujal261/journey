{
  "nbformat": 4,
  "nbformat_minor": 0,
  "metadata": {
    "colab": {
      "provenance": [],
      "gpuType": "T4",
      "authorship_tag": "ABX9TyMEAa6Boqw9D96/LWXSlt0t",
      "include_colab_link": true
    },
    "kernelspec": {
      "name": "python3",
      "display_name": "Python 3"
    },
    "language_info": {
      "name": "python"
    },
    "accelerator": "GPU"
  },
  "cells": [
    {
      "cell_type": "markdown",
      "metadata": {
        "id": "view-in-github",
        "colab_type": "text"
      },
      "source": [
        "<a href=\"https://colab.research.google.com/github/Sujal261/journey/blob/main/my_first_model.ipynb\" target=\"_parent\"><img src=\"https://colab.research.google.com/assets/colab-badge.svg\" alt=\"Open In Colab\"/></a>"
      ]
    },
    {
      "cell_type": "code",
      "execution_count": 2,
      "metadata": {
        "id": "xNGWNzfUB08c"
      },
      "outputs": [],
      "source": [
        "import torch\n",
        "from torch import nn\n",
        "import matplotlib.pyplot as plt"
      ]
    },
    {
      "cell_type": "code",
      "source": [
        "#setting up device agnostic code\n",
        "device =\"cuda\" if torch.cuda.is_available() else \"cpu\"\n",
        "print(f\"Device:{device}\")"
      ],
      "metadata": {
        "colab": {
          "base_uri": "https://localhost:8080/"
        },
        "id": "xR0F4mq-HFrM",
        "outputId": "750a05a4-9bff-45df-9f63-741e8b4c9dce"
      },
      "execution_count": 4,
      "outputs": [
        {
          "output_type": "stream",
          "name": "stdout",
          "text": [
            "Device:cuda\n"
          ]
        }
      ]
    },
    {
      "cell_type": "code",
      "source": [
        "#Preparing data for model\n",
        "weight = 0.5\n",
        "bias = 0.6\n",
        "\n",
        "start = 0\n",
        "end = 1\n",
        "step = 0.02\n",
        "X=torch.arange(start, end, step).unsqueeze(dim=1)\n",
        "y = weight*X+bias\n",
        "X[:10], y[:10]"
      ],
      "metadata": {
        "colab": {
          "base_uri": "https://localhost:8080/"
        },
        "id": "VBCWhbNKHlik",
        "outputId": "7d255a11-fd58-4dcf-b5c9-724472c30e36"
      },
      "execution_count": 21,
      "outputs": [
        {
          "output_type": "execute_result",
          "data": {
            "text/plain": [
              "(tensor([[0.0000],\n",
              "         [0.0200],\n",
              "         [0.0400],\n",
              "         [0.0600],\n",
              "         [0.0800],\n",
              "         [0.1000],\n",
              "         [0.1200],\n",
              "         [0.1400],\n",
              "         [0.1600],\n",
              "         [0.1800]]),\n",
              " tensor([[0.6000],\n",
              "         [0.6100],\n",
              "         [0.6200],\n",
              "         [0.6300],\n",
              "         [0.6400],\n",
              "         [0.6500],\n",
              "         [0.6600],\n",
              "         [0.6700],\n",
              "         [0.6800],\n",
              "         [0.6900]]))"
            ]
          },
          "metadata": {},
          "execution_count": 21
        }
      ]
    },
    {
      "cell_type": "code",
      "source": [
        "#spliting the data for training\n",
        "train_split=int(len(X)*0.8)\n",
        "X_train, y_train  = X[:train_split], y[:train_split]\n",
        "X_test, y_test  = X[train_split:], y[train_split:]\n",
        "X_test, y_test\n",
        "X_train, y_train\n"
      ],
      "metadata": {
        "colab": {
          "base_uri": "https://localhost:8080/"
        },
        "id": "GtDa-ehtISlz",
        "outputId": "2e21c054-bc41-4886-8495-8a6acc69053b"
      },
      "execution_count": 33,
      "outputs": [
        {
          "output_type": "execute_result",
          "data": {
            "text/plain": [
              "(tensor([[0.0000],\n",
              "         [0.0200],\n",
              "         [0.0400],\n",
              "         [0.0600],\n",
              "         [0.0800],\n",
              "         [0.1000],\n",
              "         [0.1200],\n",
              "         [0.1400],\n",
              "         [0.1600],\n",
              "         [0.1800],\n",
              "         [0.2000],\n",
              "         [0.2200],\n",
              "         [0.2400],\n",
              "         [0.2600],\n",
              "         [0.2800],\n",
              "         [0.3000],\n",
              "         [0.3200],\n",
              "         [0.3400],\n",
              "         [0.3600],\n",
              "         [0.3800],\n",
              "         [0.4000],\n",
              "         [0.4200],\n",
              "         [0.4400],\n",
              "         [0.4600],\n",
              "         [0.4800],\n",
              "         [0.5000],\n",
              "         [0.5200],\n",
              "         [0.5400],\n",
              "         [0.5600],\n",
              "         [0.5800],\n",
              "         [0.6000],\n",
              "         [0.6200],\n",
              "         [0.6400],\n",
              "         [0.6600],\n",
              "         [0.6800],\n",
              "         [0.7000],\n",
              "         [0.7200],\n",
              "         [0.7400],\n",
              "         [0.7600],\n",
              "         [0.7800]]),\n",
              " tensor([[0.6000],\n",
              "         [0.6100],\n",
              "         [0.6200],\n",
              "         [0.6300],\n",
              "         [0.6400],\n",
              "         [0.6500],\n",
              "         [0.6600],\n",
              "         [0.6700],\n",
              "         [0.6800],\n",
              "         [0.6900],\n",
              "         [0.7000],\n",
              "         [0.7100],\n",
              "         [0.7200],\n",
              "         [0.7300],\n",
              "         [0.7400],\n",
              "         [0.7500],\n",
              "         [0.7600],\n",
              "         [0.7700],\n",
              "         [0.7800],\n",
              "         [0.7900],\n",
              "         [0.8000],\n",
              "         [0.8100],\n",
              "         [0.8200],\n",
              "         [0.8300],\n",
              "         [0.8400],\n",
              "         [0.8500],\n",
              "         [0.8600],\n",
              "         [0.8700],\n",
              "         [0.8800],\n",
              "         [0.8900],\n",
              "         [0.9000],\n",
              "         [0.9100],\n",
              "         [0.9200],\n",
              "         [0.9300],\n",
              "         [0.9400],\n",
              "         [0.9500],\n",
              "         [0.9600],\n",
              "         [0.9700],\n",
              "         [0.9800],\n",
              "         [0.9900]]))"
            ]
          },
          "metadata": {},
          "execution_count": 33
        }
      ]
    },
    {
      "cell_type": "code",
      "source": [
        "#plottign the data to visualize\n",
        "def plot_predictions(train_data=X_train,\n",
        "                     train_label = y_train,\n",
        "                     test_data= X_test,\n",
        "                     test_label = y_test,\n",
        "                     predictions = None):\n",
        "  plt.figure(figsize=(10,4))\n",
        "  plt.scatter(train_data, train_label,c=\"b\", label=\"training data\")\n",
        "  plt.scatter(test_data, test_label,c=\"r\", label=\"testing  data\")\n",
        "  if predictions is not None:\n",
        "    plt.scatter(test_data, predictions,c=\"g\", label=\"training data\")\n",
        "\n",
        "  plt.legend()"
      ],
      "metadata": {
        "id": "FToG9zbzI9mz"
      },
      "execution_count": 34,
      "outputs": []
    },
    {
      "cell_type": "code",
      "source": [
        "plot_predictions()"
      ],
      "metadata": {
        "id": "pMRsBww3K2iL",
        "outputId": "b268bb93-4f0e-48c5-a760-d97354684c11",
        "colab": {
          "base_uri": "https://localhost:8080/",
          "height": 368
        }
      },
      "execution_count": 35,
      "outputs": [
        {
          "output_type": "display_data",
          "data": {
            "text/plain": [
              "<Figure size 1000x400 with 1 Axes>"
            ],
            "image/png": "[encoded data removed]"
          },
          "metadata": {}
        }
      ]
    },
    {
      "cell_type": "code",
      "source": [
        "#preparing the model\n",
        "class RegressionModel(nn.Module):\n",
        "  def __init__(self):\n",
        "    super().__init__()\n",
        "\n",
        "    self.linear_layer = nn.Linear(in_features =1, out_features =1)\n",
        "\n",
        "  def forward(self, x:torch.Tensor)->torch.Tensor:\n",
        "    return self.linear_layer(x)\n",
        "\n",
        "torch.manual_seed(42)\n",
        "model_1 = RegressionModel()\n",
        "model_1.state_dict()\n"
      ],
      "metadata": {
        "id": "mpmQpefZLAAL",
        "outputId": "84b3163f-6c9b-4fdc-f4bc-c5f43e37156c",
        "colab": {
          "base_uri": "https://localhost:8080/"
        }
      },
      "execution_count": 47,
      "outputs": [
        {
          "output_type": "execute_result",
          "data": {
            "text/plain": [
              "OrderedDict([('linear_layer.weight', tensor([[0.7645]])),\n",
              "             ('linear_layer.bias', tensor([0.8300]))])"
            ]
          },
          "metadata": {},
          "execution_count": 47
        }
      ]
    },
    {
      "cell_type": "code",
      "source": [
        "#converting everything to gpu\n",
        "model_1=model_1.to(device) # the device variable was set above to be \"cuda\" if available or \"cpu\" if not\n",
        "next(model_1.parameters()).device"
      ],
      "metadata": {
        "id": "UnvVrqenM-DL",
        "outputId": "06c92d93-86c7-44b9-eeee-47e20647f4c8",
        "colab": {
          "base_uri": "https://localhost:8080/"
        }
      },
      "execution_count": 48,
      "outputs": [
        {
          "output_type": "execute_result",
          "data": {
            "text/plain": [
              "device(type='cuda', index=0)"
            ]
          },
          "metadata": {},
          "execution_count": 48
        }
      ]
    },
    {
      "cell_type": "code",
      "source": [
        "#setting up the loss fnction and optimizer for training\n",
        "loss_fn = nn.L1Loss()\n",
        "optimizer = torch.optim.SGD(params=model_1.parameters(), lr=0.01)"
      ],
      "metadata": {
        "id": "bnwMnQudNe2r"
      },
      "execution_count": 49,
      "outputs": []
    },
    {
      "cell_type": "code",
      "source": [
        "print(y_train.type())"
      ],
      "metadata": {
        "id": "qzkjXtfHVGYk",
        "outputId": "02fee668-91de-427d-8c2c-f75ac7e1edb4",
        "colab": {
          "base_uri": "https://localhost:8080/"
        }
      },
      "execution_count": 43,
      "outputs": [
        {
          "output_type": "stream",
          "name": "stdout",
          "text": [
            "torch.cuda.FloatTensor\n"
          ]
        }
      ]
    },
    {
      "cell_type": "code",
      "source": [
        "#training the model\n",
        "torch.manual_seed(42)\n",
        "epochs = 300\n",
        "X_train=X_train.to(device)\n",
        "y_train=y_train.to(device)\n",
        "X_test=X_test.to(device)\n",
        "y_test=y_test.to(device)\n",
        "for epoch in range(epochs):\n",
        "  model_1.train()\n",
        "  y_pred = model_1(X_train)\n",
        "  loss_1 = loss_fn(y_pred, y_train)\n",
        "  optimizer.zero_grad()\n",
        "  loss_1.backward()\n",
        "  optimizer.step()\n",
        "  model_1.eval()\n",
        "  with torch.inference_mode():\n",
        "    y_preds = model_1(X_test)\n",
        "    test_loss=loss_fn(y_preds, y_test)\n",
        "\n",
        "  if epoch%10==0:\n",
        "    print(f\"Loss:{loss_1}, Test loss ={test_loss}\")\n",
        ""
      ],
      "metadata": {
        "id": "oICamU2AN91z",
        "outputId": "acdcf015-3cfd-420e-8de9-69bff56a7c20",
        "colab": {
          "base_uri": "https://localhost:8080/"
        }
      },
      "execution_count": 56,
      "outputs": [
        {
          "output_type": "stream",
          "name": "stdout",
          "text": [
            "Loss:0.003982982132583857, Test loss =0.005033731460571289\n",
            "Loss:0.003982982132583857, Test loss =0.005033731460571289\n",
            "Loss:0.003982982132583857, Test loss =0.005033731460571289\n",
            "Loss:0.003982982132583857, Test loss =0.005033731460571289\n",
            "Loss:0.003982982132583857, Test loss =0.005033731460571289\n",
            "Loss:0.003982982132583857, Test loss =0.005033731460571289\n",
            "Loss:0.003982982132583857, Test loss =0.005033731460571289\n",
            "Loss:0.003982982132583857, Test loss =0.005033731460571289\n",
            "Loss:0.003982982132583857, Test loss =0.005033731460571289\n",
            "Loss:0.003982982132583857, Test loss =0.005033731460571289\n",
            "Loss:0.003982982132583857, Test loss =0.005033731460571289\n",
            "Loss:0.003982982132583857, Test loss =0.005033731460571289\n",
            "Loss:0.003982982132583857, Test loss =0.005033731460571289\n",
            "Loss:0.003982982132583857, Test loss =0.005033731460571289\n",
            "Loss:0.003982982132583857, Test loss =0.005033731460571289\n",
            "Loss:0.003982982132583857, Test loss =0.005033731460571289\n",
            "Loss:0.003982982132583857, Test loss =0.005033731460571289\n",
            "Loss:0.003982982132583857, Test loss =0.005033731460571289\n",
            "Loss:0.003982982132583857, Test loss =0.005033731460571289\n",
            "Loss:0.003982982132583857, Test loss =0.005033731460571289\n",
            "Loss:0.003982982132583857, Test loss =0.005033731460571289\n",
            "Loss:0.003982982132583857, Test loss =0.005033731460571289\n",
            "Loss:0.003982982132583857, Test loss =0.005033731460571289\n",
            "Loss:0.003982982132583857, Test loss =0.005033731460571289\n",
            "Loss:0.003982982132583857, Test loss =0.005033731460571289\n",
            "Loss:0.003982982132583857, Test loss =0.005033731460571289\n",
            "Loss:0.003982982132583857, Test loss =0.005033731460571289\n",
            "Loss:0.003982982132583857, Test loss =0.005033731460571289\n",
            "Loss:0.003982982132583857, Test loss =0.005033731460571289\n",
            "Loss:0.003982982132583857, Test loss =0.005033731460571289\n"
          ]
        }
      ]
    },
    {
      "cell_type": "code",
      "source": [
        "  plot_predictions(predictions=y_preds.cpu())"
      ],
      "metadata": {
        "id": "4hn56YqkP8or",
        "outputId": "79d85210-05cc-4e95-cff7-aa812a12de11",
        "colab": {
          "base_uri": "https://localhost:8080/",
          "height": 368
        }
      },
      "execution_count": 57,
      "outputs": [
        {
          "output_type": "display_data",
          "data": {
            "text/plain": [
              "<Figure size 1000x400 with 1 Axes>"
            ],
            "image/png": "[encoded data removed]"
          },
          "metadata": {}
        }
      ]
    },
    {
      "cell_type": "code",
      "source": [
        "model_1.parameters()"
      ],
      "metadata": {
        "id": "Zf2LemntWpqS",
        "outputId": "f35b9246-e66f-4028-96a5-ea049970e04f",
        "colab": {
          "base_uri": "https://localhost:8080/"
        }
      },
      "execution_count": 53,
      "outputs": [
        {
          "output_type": "execute_result",
          "data": {
            "text/plain": [
              "<generator object Module.parameters at 0x7a70c6419fc0>"
            ]
          },
          "metadata": {},
          "execution_count": 53
        }
      ]
    },
    {
      "cell_type": "code",
      "source": [
        "model_1.state_dict()"
      ],
      "metadata": {
        "id": "cf5wC8u8W1b0",
        "outputId": "000fa261-fba4-49b5-e5e3-0e621e93c114",
        "colab": {
          "base_uri": "https://localhost:8080/"
        }
      },
      "execution_count": 58,
      "outputs": [
        {
          "output_type": "execute_result",
          "data": {
            "text/plain": [
              "OrderedDict([('linear_layer.weight', tensor([[0.5089]], device='cuda:0')),\n",
              "             ('linear_layer.bias', tensor([0.6005], device='cuda:0'))])"
            ]
          },
          "metadata": {},
          "execution_count": 58
        }
      ]
    },
    {
      "cell_type": "code",
      "source": [
        "from pathlib import Path\n",
        "model_path =Path(\"models\")\n",
        "model_path.mkdir(parents=True, exist_ok=True)\n",
        "model_name=\"my_first_model.pth\"\n",
        "model_saved_path= model_path/ model_name\n",
        "\n",
        "print(f\"Saving path to : {model_saved_path}\")\n",
        "torch.save(obj = model_1.state_dict(), f=model_saved_path)"
      ],
      "metadata": {
        "id": "bUY_jHbiXAoq",
        "outputId": "c72c1785-ffd6-4b19-b4f9-aee7aeef322e",
        "colab": {
          "base_uri": "https://localhost:8080/"
        }
      },
      "execution_count": 55,
      "outputs": [
        {
          "output_type": "stream",
          "name": "stdout",
          "text": [
            "Saving path to : models/my_first_model.pth\n"
          ]
        }
      ]
    },
    {
      "cell_type": "code",
      "source": [],
      "metadata": {
        "id": "-aTINhByYKUc"
      },
      "execution_count": null,
      "outputs": []
    }
  ]
}